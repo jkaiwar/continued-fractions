{
 "cells": [
  {
   "cell_type": "markdown",
   "metadata": {},
   "source": [
    "# Continued Fractions"
   ]
  },
  {
   "cell_type": "markdown",
   "metadata": {},
   "source": [
    "Let $\\frac{p}{q}$ be a rational number, where $p$ and $q$ are coprime. A continued fraction for $\\frac{p}{q}$ is a sequence $[a_1, a_2, \\dots ,a_n]$, where each $a_i \\in \\mathbb{Z}$ such that\n",
    "\n",
    "$$\\frac{p}{q}= a_1 +\\frac{1}{a_2+\\frac{1}{\\ddots+\\frac{1}{a_n}}}.$$"
   ]
  },
  {
   "cell_type": "markdown",
   "metadata": {},
   "source": [
    "Continued fractions can be calculated easily from the quotients in Euclid’s Algorithm. For example, we will compute the continued fraction for $\\frac{45}{16}$. In the same method of finding the greatest common divisor for $45$ and $16$, we compute,\n",
    "\n",
    "\\begin{align*}\n",
    "45 &= \\textbf{2}*16 + 13;\\\\\n",
    "16 &= \\textbf{1}*13 + 3;\\\\\n",
    "13 &= \\textbf{4}*3 + 1;\\\\\n",
    "3 &= \\textbf{3}*1 + 0.\\\\\n",
    "\\end{align*}\n",
    "\n",
    "So we can form the continued fraction from the sequence of quotients like so:\n",
    "\n",
    "$$\\frac{45}{16}=2 +\\frac{1}{1+\\frac{1}{4+\\frac{1}{3}}} = [2, 1, 4, 3].$$"
   ]
  },
  {
   "cell_type": "code",
   "execution_count": 2,
   "metadata": {},
   "outputs": [],
   "source": [
    "#We first need function to check if numbers are coprime.\n",
    "def iscoprime(x,y):\n",
    "    while y != 0:\n",
    "        x,y = y,x%y\n",
    "    if x == 1:\n",
    "        return True\n",
    "    else:\n",
    "        return False\n",
    "\n",
    "#main function\n",
    "def cont_frac(num, den):\n",
    "    \n",
    "    #checking for bad  inputs\n",
    "    if num<1 or den<1:             # only work for natural numbers\n",
    "        return 'must use natural numbers'\n",
    "    if not num%1==0 and den%1==0:\n",
    "        return 'must be integers'\n",
    "    if not iscoprime(num, den):        # check to see if they are coprime\n",
    "        return 'must be coprime'\n",
    "    \n",
    "    #main function\n",
    "    list0 = []                     # this is where we store the sequence\n",
    "    while num>1:\n",
    "        q = num // den             # compute the first line of Euclid's Algorithm a= qb + r\n",
    "        r = num%den\n",
    "        list0.append(q)            # the value of q are the values in the continued fraction\n",
    "        num = den                  # rename\n",
    "        den = r\n",
    "    return list0                   # output the sequence"
   ]
  },
  {
   "cell_type": "code",
   "execution_count": 3,
   "metadata": {},
   "outputs": [
    {
     "data": {
      "text/plain": [
       "[2, 1, 4, 3]"
      ]
     },
     "execution_count": 3,
     "metadata": {},
     "output_type": "execute_result"
    }
   ],
   "source": [
    "cont_frac(45,16)"
   ]
  },
  {
   "cell_type": "code",
   "execution_count": 4,
   "metadata": {},
   "outputs": [
    {
     "data": {
      "text/plain": [
       "[1, 1, 13, 2]"
      ]
     },
     "execution_count": 4,
     "metadata": {},
     "output_type": "execute_result"
    }
   ],
   "source": [
    "#a few trials with other numbers\n",
    "cont_frac(56,29)"
   ]
  },
  {
   "cell_type": "markdown",
   "metadata": {},
   "source": [
    "***\n",
    "Now we want to write a function that recalculates the rational number from a list. This could be eaily computed by hand by working backwards from the last entry in the sequence, for example\n",
    "\n",
    "$$[2, 1, 4, 3] =2 +\\frac{1}{1+\\frac{1}{4+\\frac{1}{3}}} =2 +\\frac{1}{1+\\frac{1}{\\frac{13}{3}}}= 2 +\\frac{1}{1+\\frac{3}{13}} = \\dots = \\frac{45}{16}.$$\n",
    "\n",
    "However as python does arithmetic with decimal expansions, if this was coded, this would not output a rational number $\\frac{p}{q}$. Instead we will calculate the numerator and denominator separately, using a recurrence relation.\n",
    "\n",
    "Given a continued fraction expansion $$ \\frac{p}{q} = [a_0, a_1, \\dots, a_{n-1}], $$ we have that the numerator can be calculated using the following sequence:\n",
    "\n",
    "$$ x_i = a_{i-1} * x_{i-1} + x_{i-2}, \\quad \\textrm{where} \\quad x_0 = 1, x_1 = a_0. $$\n",
    "\n",
    "Similarly, the denomiator can be calculated by the same sequence but with difference initial terms.\n",
    "\n",
    "$$ y_i = a_{i-1} * y_{i-1} + y_{i-2}, \\quad \\textrm{where} \\quad y_0 = 0, y_1 = 1. $$\n",
    "\n",
    "Then we have that $\\frac{p}{q}$ is such that $p = x_n$ and $q = y_n$"
   ]
  },
  {
   "cell_type": "code",
   "execution_count": 5,
   "metadata": {},
   "outputs": [],
   "source": [
    "def convert(a):                       # inputs the sequnce 'a' of numbers what we will convert to a rational number\n",
    "    n=len(a)\n",
    "    # the numerator\n",
    "    x = [1,a[0]]\n",
    "    for i in range(1,n):\n",
    "        x.append(a[i]*x[i]+x[i-1])    # add each new term to the list so we can keep track of the previous values\n",
    "                           \n",
    "    # now for the denominator\n",
    "    y = [0,1]\n",
    "    for i in range(1,n):\n",
    "        y.append(a[i]*y[i]+y[i-1])\n",
    "    return (x[n],y[n])                # return p, q as a tuple"
   ]
  },
  {
   "cell_type": "code",
   "execution_count": 6,
   "metadata": {},
   "outputs": [
    {
     "data": {
      "text/plain": [
       "(45, 16)"
      ]
     },
     "execution_count": 6,
     "metadata": {},
     "output_type": "execute_result"
    }
   ],
   "source": [
    "#check this works\n",
    "a = cont_frac(45, 16)\n",
    "convert(a)"
   ]
  },
  {
   "cell_type": "code",
   "execution_count": 7,
   "metadata": {},
   "outputs": [],
   "source": [
    "assert convert(cont_frac(9,7))==(9,7)\n",
    "#assert cont_frac(convert([1,3,2]))==[1,3,2] #doesnt work since convert outputs tuple, and cont_frac takes in two arguments"
   ]
  },
  {
   "cell_type": "markdown",
   "metadata": {},
   "source": [
    "****\n",
    "Continued fractions are not unique, however. We have that \n",
    "$$[3, -5, -3]= 3 +\\frac{1}{-5+\\frac{1}{-3}} =  \\frac{45}{16}=2 +\\frac{1}{1+\\frac{1}{4+\\frac{1}{3}}} = [2, 1, 4, 3].$$\n",
    "\n",
    "This is because there are many ways to express $\\frac{a}{b}$ in the form  $a = qb + r$. In Euclid's Algorithm above we choose $q$ such that it is the result of the integer division of $a$ and $b$. However, we could choose $q$ such that it is the value of $\\frac{a}{b}$ rounded to the nearest integer."
   ]
  },
  {
   "cell_type": "code",
   "execution_count": 8,
   "metadata": {},
   "outputs": [],
   "source": [
    "def cont_frac2(num,den):\n",
    "    list0 = []\n",
    "    r = 1                        #set the remainder to any arbitrary number so it can be referenced for the while loop\n",
    "    while r!=0:                  #function will run until the remainder is 0\n",
    "        q = round(num/den)       # round function\n",
    "        r = num - den*q          # calculating the remainder\n",
    "        list0.append(q)\n",
    "        num = den\n",
    "        den = r\n",
    "    return list0"
   ]
  },
  {
   "cell_type": "code",
   "execution_count": 9,
   "metadata": {},
   "outputs": [
    {
     "data": {
      "text/plain": [
       "[3, -5, -3]"
      ]
     },
     "execution_count": 9,
     "metadata": {},
     "output_type": "execute_result"
    }
   ],
   "source": [
    "cont_frac2(45,16)"
   ]
  },
  {
   "cell_type": "code",
   "execution_count": 10,
   "metadata": {},
   "outputs": [
    {
     "data": {
      "text/plain": [
       "(45, 16)"
      ]
     },
     "execution_count": 10,
     "metadata": {},
     "output_type": "execute_result"
    }
   ],
   "source": [
    "# check that it is indeed the same rational number\n",
    "convert(cont_frac2(45,16))"
   ]
  },
  {
   "cell_type": "code",
   "execution_count": 11,
   "metadata": {},
   "outputs": [],
   "source": [
    "#similarly we could choose to always round q up\n",
    "import math\n",
    "   \n",
    "def cont_frac3(num,den):\n",
    "    list0 = []\n",
    "    r = 1\n",
    "    while r!=0:            \n",
    "        q = math.ceil(num/den)       # ceiling function to round the answer up\n",
    "        r = num - den*q           \n",
    "        list0.append(q)\n",
    "        num = den\n",
    "        den = r\n",
    "    return list0"
   ]
  },
  {
   "cell_type": "code",
   "execution_count": 12,
   "metadata": {},
   "outputs": [],
   "source": [
    "assert convert(cont_frac3(9,67)) == (9,67)"
   ]
  },
  {
   "cell_type": "code",
   "execution_count": 13,
   "metadata": {},
   "outputs": [],
   "source": [
    "## checking all 3 functions give back the same rational number\n",
    "assert convert(cont_frac3(9,67)) == convert(cont_frac2(9,67)) == convert(cont_frac(9,67))"
   ]
  },
  {
   "cell_type": "markdown",
   "metadata": {},
   "source": [
    "*****************\n",
    "## SECTION 2"
   ]
  },
  {
   "cell_type": "code",
   "execution_count": 18,
   "metadata": {},
   "outputs": [
    {
     "name": "stdout",
     "output_type": "stream",
     "text": [
      "[1, 3, 2]\n",
      "   _  \n",
      "  / \\ \n",
      " / _ \\ \n",
      "/ / \\ \\ \n",
      "| | \\ / \n",
      "| |  /  \n",
      "| | / \\ \n",
      "| \\ / |\n",
      "|  /  |\n",
      "| / \\ |\n",
      "| \\ / |\n",
      "|  /  |\n",
      "| / \\ |\n",
      "| \\ / |\n",
      "|  /  |\n",
      "| / \\ |\n",
      "| | \\ / \n",
      "| |  /  \n",
      "| | / \\ \n",
      "| | \\ / \n",
      "| |  /  \n",
      "| | / \\ \n",
      "\\ \\_/ /\n",
      " \\  /  \n",
      "  \\_/    \n"
     ]
    }
   ],
   "source": [
    "# Main function\n",
    "def twobridgelink(p,q): \n",
    "    #Declaring some variables to be used later\n",
    "    firstdone=False\n",
    "    zeroentry=False\n",
    "    k=1\n",
    "    coprime = iscoprime(p,q) #need to check p,q are coprime, using the function from above\n",
    "    #possibly need to check they are rational?\n",
    "    a=cont_frac(p,q) #input taken from previous continued fraction function\n",
    "    \n",
    "    #a=[-3,-4,-3,-5,-2] #temporary input for a for testing\n",
    "    print(a)\n",
    "    #b=convert(a)\n",
    "    #print(b)\n",
    "    if coprime == True: #we only want to print when our numbers are coprime\n",
    "        \n",
    "        for i in range (len(a)): #Loops for all ai values created by the continued fraction   \n",
    "            \n",
    "            if i%2 != 0: #If statement to differentiate between odd i and even i\n",
    "                if firstdone == False: #This section deals with the beginning loops of the knot\n",
    "                    if abs(a[i]) > 0: #Here we only want to add these loops if the ai is non-zero\n",
    "                        print(\" _   _   \") \n",
    "                        print(\"/ \\ / \\ \") \n",
    "                        firstdone=True\n",
    "                        \n",
    "                for j in range (abs(a[i])): #loops so we have ai many crossings, abs to handle negative number inputs\n",
    "                    print(\"| \\ / |\")\n",
    "                    print(\"|  /  |\")\n",
    "                    print(\"| / \\ |\")\n",
    "                    \n",
    "                if i == (len(a)-1): #This section deals with the end loops of the knot\n",
    "                    if abs(a[i]) > 0: #Here we only want to add these loops if the ai is non-zero\n",
    "                        print(\"\\_/ \\_/ \") \n",
    "                    else:\n",
    "                        while abs(a[i-k]) == 0: #This loops over k values til we reach a non-zero ai\n",
    "                            k+=1\n",
    "                            if (i-k) == 0: #For the outlier case where all ai's are zero\n",
    "                                print(\"All entries are 0\")\n",
    "                                zeroentry=True\n",
    "                                break\n",
    "                        if zeroentry == True: #If statement to catch if all ai's are zero\n",
    "                            break\n",
    "                        if k%2 != 0: #Checking which loop ending we need based on the final non-zero ai\n",
    "                            print(\"\\ \\_/ /\")\n",
    "                            print(\" \\  /  \")\n",
    "                            print(\"  \\_/    \")\n",
    "                        else:\n",
    "                            print(\"\\_/ \\_/ \") \n",
    "                            \n",
    "            else:\n",
    "                if firstdone == False: #This section deals with the beginning loops of the knot\n",
    "                    if abs(a[i]) > 0: #Here we only want to add these loops if the ai is non-zero\n",
    "                        print(\"   _  \") \n",
    "                        print(\"  / \\ \")\n",
    "                        print(\" / _ \\ \")\n",
    "                        print(\"/ / \\ \\ \")  \n",
    "                        firstdone=True\n",
    "                        \n",
    "                for j in range (abs(a[i])): #loops so we have ai many crossings, abs to handle negative number inputs\n",
    "                    print(\"| | \\ / \")\n",
    "                    print(\"| |  /  \")\n",
    "                    print(\"| | / \\ \")\n",
    "                    \n",
    "                if i == (len(a)-1): #This section deals with the end loops of the knot\n",
    "                    if abs(a[i]) > 0: #Here we only want to add these loops if the ai is non-zero\n",
    "                        print(\"\\ \\_/ /\")\n",
    "                        print(\" \\  /  \")\n",
    "                        print(\"  \\_/    \")\n",
    "                    else:\n",
    "                        while abs(a[i-k]) == 0: #This loops over k values til we reach a non-zero ai\n",
    "                            k+=1\n",
    "                            if (i-k) == 0: #For the outlier case where all ai's are zero\n",
    "                                print(\"All entries are 0\")\n",
    "                                zeroentry=True\n",
    "                                break\n",
    "                        if zeroentry == True: #If statement to catch if all ai's are zero\n",
    "                            break\n",
    "                        if k%2 != 0: #Checking which loop ending we need based on the final non-zero ai\n",
    "                            print(\"\\_/ \\_/ \") \n",
    "                        else:\n",
    "                            print(\"\\ \\_/ /\")\n",
    "                            print(\" \\   /  \")\n",
    "                            print(\"  \\_/    \")\n",
    "                    \n",
    "    else:\n",
    "        print(\"Inputs are not coprime\")\n",
    "                \n",
    "        \n",
    "twobridgelink(9,7)"
   ]
  },
  {
   "cell_type": "markdown",
   "metadata": {},
   "source": [
    "'''\n",
    "QUESTIONS\n",
    " \n",
    "2a suggesting that if p is odd, we have a circle (all are joined), if its even we have 2 components (not all are joined)\n",
    "2a is TRUE (tested with 9,7 15,7 7,3 8,3 20,3)\n",
    " \n",
    "2b i.e that (p,q) is the same for [a1,a2,a3...]\n",
    "not sure how to test this one\n",
    " \n",
    "2c need to test that s(p,q) = s(p,q+np)\n",
    "2c is FALSE (tested with (8,3) and (8,27), (9,7) and (9,34))\n",
    " \n",
    "2d changing sign of crossings gives s(p,-q)=s(p,p-q)\n",
    "2d is FALSE? (Changes sign of p (p,q) goes to (-p,q))\n",
    " \n",
    " \n",
    " \n",
    "3) test cases: (9,2) & (9,14) = [4,2] & [0,1,1,1,4],  (5,3) & (5,12) = [1,1,2] & [0,2,2,2] (13,8) & (13,21) = [1,1,1,1,2] & [0,1,1,1,1,1,2] \n",
    "not sure of the pattern here. \n",
    "'''"
   ]
  },
  {
   "cell_type": "code",
   "execution_count": null,
   "metadata": {},
   "outputs": [],
   "source": []
  }
 ],
 "metadata": {
  "kernelspec": {
   "display_name": "Python 3",
   "language": "python",
   "name": "python3"
  },
  "language_info": {
   "codemirror_mode": {
    "name": "ipython",
    "version": 3
   },
   "file_extension": ".py",
   "mimetype": "text/x-python",
   "name": "python",
   "nbconvert_exporter": "python",
   "pygments_lexer": "ipython3",
   "version": "3.7.3"
  }
 },
 "nbformat": 4,
 "nbformat_minor": 2
}
