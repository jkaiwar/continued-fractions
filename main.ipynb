{
 "cells": [
  {
   "cell_type": "markdown",
   "metadata": {},
   "source": []
  },
  {
   "cell_type": "markdown",
   "metadata": {},
   "source": [
    "# _d_-invariants of 2-bridge links\n",
    "\n",
    "The d invariant of a 2-bridge link is denoted $d(S(p,q))$ and is a collection of $p$ rational numbers\n",
    "\n",
    "$$d(S(p,q),i) \\hspace{1cm} for \\hspace{0.2cm} i\\in[0,1,...,p-1].$$\n",
    "\n",
    "The _d_ invariants can be computed by the following recursive procedure as in ??? from ???. We are given that $p > 0$.\n",
    "\n",
    " 1. $d(S(1,q),i) = 0$ for all $q$ and all $i$.\n",
    " \n",
    " 2. Let $x\\%p$ denote the integer between $0$ and $p$ which is congruent to $x$ modulo $p$, then $d(S(p,q),i) = d(S(p,q\\%p),i\\%p)$.\n",
    " \n",
    " 3. And for $p > q > 0$ and $0 \\le i < p + q$,\n",
    " \n",
    " $$d(S(p,q),i) = \\frac{(2i + 1 - p - q)^{2} - pq}{4pq} - d(S(q,p),i)\\hspace{1cm}$$\n",
    " \n",
    "We use this procedure to define a recursive function `dS` to compute the _d_ invariant given $p > 0$ and $q,i \\in \\mathbb{Z}$. We start by checking for bad input, then reduce $q,i$ modulo $p$ before implementing our recursive step. The recursion terminates when $p = 1$ as given in step 1. We assume that this occurs in finite iterations.\n",
    "\n",
    "We will use the data type `Fraction` from the `fractions` module in python to avoid rounding errors. To make it work with our framework, we start by writing a function `extract_tuple` to extract a positive numerator and  integer denominator from our fraction. The fraction module ensures that $p$ and $q$ are coprime integers."
   ]
  },
  {
   "cell_type": "code",
   "execution_count": 31,
   "metadata": {},
   "outputs": [],
   "source": [
    "import numpy as np\n",
    "from fractions import Fraction\n",
    "\n",
    "def extract_tuple(frac):\n",
    "    if (frac < 0):\n",
    "        p = -frac.numerator\n",
    "        q = -frac.denominator\n",
    "    else:\n",
    "        p = frac.numerator\n",
    "        q = frac.denominator\n",
    "    return p,q\n",
    "\n",
    "# Recursive d-invariant\n",
    "def d(S,i):\n",
    "    # checking input values are positive integers\n",
    "    if ((not isinstance(S, Fraction))):\n",
    "        raise Exception('S must be a fraction. S was {}.'.format(S))\n",
    "        \n",
    "    if ((not isinstance(i, int))):\n",
    "        raise Exception('i must be an integer. i was {}.'.format(i))\n",
    "    \n",
    "    p,q = extract_tuple(S)\n",
    "    # we terminate if p = 1 (using (1))\n",
    "    if (p == 1):\n",
    "        return Fraction(0,1)\n",
    "\n",
    "    q = q%p\n",
    "    i = i%p                                                          # these steps combine (2) and (3)\n",
    "    r = Fraction(((((2*i) + 1 - p - q)**2) - p*q),(4*p*q))\n",
    "    # our recursive step is safe since we have checked for bad input and reduced q and i mod p.\n",
    "    return r - dS(q,p,i)"
   ]
  },
  {
   "cell_type": "markdown",
   "metadata": {},
   "source": [
    "## Listing the invariant as a numpy array\n",
    "\n",
    "In this section we will list all the invariants for a given rational number. We have implemented our _d_ invariant function above using using the following fact from the project description.\n",
    "\n",
    "$$\n",
    "d(S(p,q),i) = d(S(p,q),i+np)\n",
    "$$\n",
    "\n",
    "for all $n \\in \\mathbb{Z}$. This simplifies our task of listing the invariants for a number $\\frac{p}{q}$. We can simply list $d(S(p,q),i)$ for $i = 0,1,2, \\dots p-1$. Any other value of $i$ can thus be reduced modulo $p$ to fall into our listed range. The code is a simple for-loop iterating over these values of $i$ and placing the corresponding fraction $d(S(p,q),i)$ into a numpy array. The type of the numpy array is `obj` to allow for fractions, thus avoiding rounding errors. The error checking falls onto the function `d` implemented above, which raises exceptions for bad input."
   ]
  },
  {
   "cell_type": "code",
   "execution_count": 32,
   "metadata": {},
   "outputs": [],
   "source": [
    "def list_invariants(S):\n",
    "    p = abs(S.numerator)\n",
    "    A = np.zeros(p).astype('object')\n",
    "    for i in range(p):\n",
    "        A[i] = (d(S,i))\n",
    "    return A"
   ]
  },
  {
   "cell_type": "markdown",
   "metadata": {},
   "source": [
    "To test out our function we try $p = 9$ and $q = 7$ and pretty print the output."
   ]
  },
  {
   "cell_type": "code",
   "execution_count": 33,
   "metadata": {},
   "outputs": [
    {
     "name": "stdout",
     "output_type": "stream",
     "text": [
      "0\n",
      "-2/9\n",
      "4/9\n",
      "0\n",
      "4/9\n",
      "-2/9\n",
      "0\n",
      "-8/9\n",
      "-8/9\n"
     ]
    }
   ],
   "source": [
    "for r in list_invariants(Fraction(9,7)):\n",
    "    print(r)"
   ]
  },
  {
   "cell_type": "markdown",
   "metadata": {},
   "source": [
    "This seems to agree with the sample output we are given in the project description."
   ]
  },
  {
   "cell_type": "markdown",
   "metadata": {},
   "source": [
    "## _d_-invariants of equivalent links\n",
    "\n",
    "We have already seen that there are cases where two 2-bridge links are equivalent despite having different values of $q$; i.e. $S(p,q_{1}) = S(p,q_{2})$.\n",
    "And we verified that this is true with the following cases:\n",
    "\n",
    "$$S(p,q) = S(p,q + np) \\hspace{1cm} for \\hspace{0.2cm} n\\in \\mathbb{Z}$$\n",
    "\n",
    "Here we shall consider what the above equality means for the _d_ invariance.\n",
    "The function below takes $p$ and $q$ as input and outputs the _d_ invariance lists for the ten smallest positive values of $q$ of the form $q + np$."
   ]
  },
  {
   "cell_type": "code",
   "execution_count": 36,
   "metadata": {},
   "outputs": [],
   "source": [
    "# Function that takes p as input and ouputs all d invariance lists of S(p,q + np) for (q + np) > 0\n",
    "# Have chosen to take the first 10 such values for q to give a good sample of the pattern produced\n",
    "def dS_congruent_q(p,q):\n",
    "    \n",
    "    while q - p > 0:\n",
    "        q = q - p             # Sets q to the smallest positive value of q of the form q + np \n",
    "    \n",
    "    B = []                    # We create a list of the d invariance lists for each of the first ten q values\n",
    "    Q = []                    # And a list of said values of q\n",
    "    \n",
    "    while q < 10*p:           # We are only finding the first ten lists\n",
    "        B.append(list_invariants(Fraction(p,q)))\n",
    "        Q.append(q)\n",
    "        q = q + p\n",
    "    \n",
    "    print('The first ten values of q for which S(',p,',q) is equivalent are', Q)\n",
    "    \n",
    "    for i in range(len(B)):\n",
    "        print('The d invariance list for q =',Q[i],'is',B[i])\n",
    "        print('=============================================')\n",
    "    \n",
    "    return 'It is safe to assume that this pattern continues for infinte values of q'"
   ]
  },
  {
   "cell_type": "markdown",
   "metadata": {},
   "source": [
    "We will again check our function against our known example of $d(S(9,7))$:"
   ]
  },
  {
   "cell_type": "code",
   "execution_count": 37,
   "metadata": {},
   "outputs": [
    {
     "name": "stdout",
     "output_type": "stream",
     "text": [
      "The first ten values of q for which S( 9 ,q) is equivalent are [7, 16, 25, 34, 43, 52, 61, 70, 79, 88]\n",
      "The d invariance list for q = 7 is [Fraction(0, 1) Fraction(-2, 9) Fraction(4, 9) Fraction(0, 1)\n",
      " Fraction(4, 9) Fraction(-2, 9) Fraction(0, 1) Fraction(-8, 9)\n",
      " Fraction(-8, 9)]\n",
      "=============================================\n",
      "The d invariance list for q = 16 is [Fraction(0, 1) Fraction(-2, 9) Fraction(4, 9) Fraction(0, 1)\n",
      " Fraction(4, 9) Fraction(-2, 9) Fraction(0, 1) Fraction(-8, 9)\n",
      " Fraction(-8, 9)]\n",
      "=============================================\n",
      "The d invariance list for q = 25 is [Fraction(0, 1) Fraction(-2, 9) Fraction(4, 9) Fraction(0, 1)\n",
      " Fraction(4, 9) Fraction(-2, 9) Fraction(0, 1) Fraction(-8, 9)\n",
      " Fraction(-8, 9)]\n",
      "=============================================\n",
      "The d invariance list for q = 34 is [Fraction(0, 1) Fraction(-2, 9) Fraction(4, 9) Fraction(0, 1)\n",
      " Fraction(4, 9) Fraction(-2, 9) Fraction(0, 1) Fraction(-8, 9)\n",
      " Fraction(-8, 9)]\n",
      "=============================================\n",
      "The d invariance list for q = 43 is [Fraction(0, 1) Fraction(-2, 9) Fraction(4, 9) Fraction(0, 1)\n",
      " Fraction(4, 9) Fraction(-2, 9) Fraction(0, 1) Fraction(-8, 9)\n",
      " Fraction(-8, 9)]\n",
      "=============================================\n",
      "The d invariance list for q = 52 is [Fraction(0, 1) Fraction(-2, 9) Fraction(4, 9) Fraction(0, 1)\n",
      " Fraction(4, 9) Fraction(-2, 9) Fraction(0, 1) Fraction(-8, 9)\n",
      " Fraction(-8, 9)]\n",
      "=============================================\n",
      "The d invariance list for q = 61 is [Fraction(0, 1) Fraction(-2, 9) Fraction(4, 9) Fraction(0, 1)\n",
      " Fraction(4, 9) Fraction(-2, 9) Fraction(0, 1) Fraction(-8, 9)\n",
      " Fraction(-8, 9)]\n",
      "=============================================\n",
      "The d invariance list for q = 70 is [Fraction(0, 1) Fraction(-2, 9) Fraction(4, 9) Fraction(0, 1)\n",
      " Fraction(4, 9) Fraction(-2, 9) Fraction(0, 1) Fraction(-8, 9)\n",
      " Fraction(-8, 9)]\n",
      "=============================================\n",
      "The d invariance list for q = 79 is [Fraction(0, 1) Fraction(-2, 9) Fraction(4, 9) Fraction(0, 1)\n",
      " Fraction(4, 9) Fraction(-2, 9) Fraction(0, 1) Fraction(-8, 9)\n",
      " Fraction(-8, 9)]\n",
      "=============================================\n",
      "The d invariance list for q = 88 is [Fraction(0, 1) Fraction(-2, 9) Fraction(4, 9) Fraction(0, 1)\n",
      " Fraction(4, 9) Fraction(-2, 9) Fraction(0, 1) Fraction(-8, 9)\n",
      " Fraction(-8, 9)]\n",
      "=============================================\n",
      "It is safe to assume that this pattern continues for infinte values of q\n"
     ]
    }
   ],
   "source": [
    "print(dS_congruent_q(9,7))"
   ]
  },
  {
   "cell_type": "markdown",
   "metadata": {},
   "source": [
    "## _d_-invariant of inequivalent links\n",
    "\n",
    "Now we will turn our attention to testing the converse; whether inequivalent links can produce the equal invariants. More formally, we wish to test\n",
    "\n",
    "$$S(p,q_1) \\neq S(p,q_2) \\implies d(S(p,q_1),i) \\neq d(S(p,q_2),i)$$\n",
    "\n",
    "for all $i = 0,1, \\dots, p-1$.\n",
    "\n",
    "We thus need a way of testing the equivalence of two 2-bridge links in our program. The previous sections on 2-bridge links gives us some insight into when 2-bridge links are equivalent. However to cover all cases of equivalence rigorously we will use thm ??? from ???. This is stated below in our nomenclature and notation without proof.\n",
    "\n",
    "___Theorem___    _2-bridge links $S(p_1,q_1)$ and $S(p_2,q_2)$ are equivalent if and only if $p_1 = p_2$_ and either $q_1 \\equiv q_2$ mod $p_1$ or $q_1 q_2 \\equiv 1$ mod $p_1$.\n",
    "\n",
    "We use this to design our equivalence test as follows. The function takes two fractions as input and returns a boolean value. Error checking is implicit in the `Fraction` data type. $p_1$ and $p_2$ must remain positive so the first step pushes the minus sign from the numerator to the denominator if required."
   ]
  },
  {
   "cell_type": "code",
   "execution_count": 38,
   "metadata": {},
   "outputs": [],
   "source": [
    "def equivalent_link(S1,S2):\n",
    "    # type checks\n",
    "    if ((not isinstance(S1, Fraction))):\n",
    "        raise Exception('S1 must be a fraction. S1 was {}.'.format(S1))\n",
    "    if ((not isinstance(S2, Fraction))):\n",
    "        raise Exception('S2 must be a fraction. S2 was {}.'.format(S2))\n",
    "        \n",
    "    p1,q1 = extract_tuple(S1)\n",
    "    p2,q2 = extract_tuple(S2)\n",
    "    \n",
    "    # testing whether the corresponding links are equivalent\n",
    "    if  not (p1 == p2):\n",
    "        return False\t\t# numerators must be equal\n",
    "    \n",
    "    A = (q1%p1 == q2%p1)\n",
    "    B = ((q1*q2)%p1 == 1)\n",
    "    return (A ^ B)\t\t\t# and either A or B"
   ]
  },
  {
   "cell_type": "markdown",
   "metadata": {},
   "source": [
    "Our strategy for the test will be to use nested for-loops. We use the fact that $S(p,q_1) = S(p,q_2) \\iff S(p,q_2) = S(p,q_1)$ to limit the range of `q2`. Also the range for `q1` can be limited by the fact from 2(c) of 2-bridge links. We use a function so that we can `return` to break out of the nested for loops.\n",
    "\n",
    "The function `list_invariants` involves multiple calls to a recursive function and is clearly computationally heavy. Thus to minimise calls to it, we will only call it if $S(p,q_1) \\neq S(p,q_2)$.\n",
    "\n",
    "Despite this, the program is still slow and we will thus only test for $p \\leq 20$ (which tests $\\sum_{i=1}^{20} \\frac{i(i+1)}{2}$ pairs of links). If we test all links where $p \\leq 1000$ we would be testing more than sixteen million pairs. The maximum value of $p$ can be changed in the function below if required."
   ]
  },
  {
   "cell_type": "code",
   "execution_count": 49,
   "metadata": {},
   "outputs": [
    {
     "name": "stdout",
     "output_type": "stream",
     "text": [
      "statement is verified for p <= 20\n"
     ]
    }
   ],
   "source": [
    "def invariance_implies_equivalence(n):\n",
    "    for p in range(1,n+1):\n",
    "        for q1 in range(1,p):\n",
    "            for q2 in range(1,q1):\n",
    "                # We are testing whether links_unequal and not d_unequal (negation of our implication).\n",
    "                links_unequal = not equivalent_link(Fraction(p,q1), Fraction(p,q2))\n",
    "                if links_unequal:\n",
    "                    d_unequal = not np.array_equal(list_invariants(Fraction(p,q1)),list_invariants(Fraction(p,q2)))\n",
    "                    if not d_unequal:\n",
    "                        return False\n",
    "                \n",
    "    return True\n",
    "            \n",
    "predicate = invariance_implies_equivalence(20)\n",
    "    \n",
    "if predicate:\n",
    "    print('statement is verified for p <= 20')\n",
    "else:\n",
    "    print('exceptions to the statement were found')"
   ]
  },
  {
   "cell_type": "markdown",
   "metadata": {},
   "source": [
    "## Testing the property of slice knots\n",
    "\n",
    "When $m < 1$ want to check for which $q = 1,2, \\dots m^2-1$ the invariant list has $m$ zeroes. This is implemented using another simple nested for-loop."
   ]
  },
  {
   "cell_type": "code",
   "execution_count": 55,
   "metadata": {},
   "outputs": [
    {
     "name": "stdout",
     "output_type": "stream",
     "text": [
      "[Fraction(4, 1), Fraction(2, 1), Fraction(4, 3), Fraction(9, 2), Fraction(9, 4), Fraction(9, 5), Fraction(9, 7), Fraction(16, 3), Fraction(16, 5), Fraction(16, 7), Fraction(16, 9), Fraction(16, 11), Fraction(16, 13), Fraction(25, 4), Fraction(25, 6), Fraction(25, 7), Fraction(25, 9), Fraction(25, 11), Fraction(25, 14), Fraction(25, 16), Fraction(25, 18), Fraction(25, 19), Fraction(25, 21), Fraction(36, 5), Fraction(36, 7), Fraction(36, 11), Fraction(36, 13), Fraction(36, 23), Fraction(36, 25), Fraction(36, 29), Fraction(36, 31), Fraction(49, 6), Fraction(49, 8), Fraction(49, 13), Fraction(49, 15), Fraction(49, 18), Fraction(49, 19), Fraction(49, 20), Fraction(49, 22), Fraction(49, 27), Fraction(49, 29), Fraction(49, 30), Fraction(49, 31), Fraction(49, 34), Fraction(49, 36), Fraction(49, 41), Fraction(49, 43), Fraction(64, 7), Fraction(64, 9), Fraction(64, 15), Fraction(64, 17), Fraction(64, 19), Fraction(64, 23), Fraction(64, 25), Fraction(64, 27), Fraction(64, 37), Fraction(64, 39), Fraction(64, 41), Fraction(64, 45), Fraction(64, 47), Fraction(64, 49), Fraction(64, 55), Fraction(64, 57), Fraction(81, 8), Fraction(81, 10), Fraction(81, 17), Fraction(81, 19), Fraction(81, 31), Fraction(81, 34), Fraction(81, 35), Fraction(81, 37), Fraction(81, 44), Fraction(81, 46), Fraction(81, 47), Fraction(81, 50), Fraction(81, 62), Fraction(81, 64), Fraction(81, 71), Fraction(81, 73), Fraction(100, 9), Fraction(100, 11), Fraction(100, 19), Fraction(100, 21), Fraction(100, 27), Fraction(100, 29), Fraction(100, 31), Fraction(100, 37), Fraction(100, 39), Fraction(100, 41), Fraction(100, 59), Fraction(100, 61), Fraction(100, 63), Fraction(100, 69), Fraction(100, 71), Fraction(100, 73), Fraction(100, 79), Fraction(100, 81), Fraction(100, 89), Fraction(100, 91), Fraction(121, 10), Fraction(121, 12), Fraction(121, 21), Fraction(121, 23), Fraction(121, 32), Fraction(121, 34), Fraction(121, 36), Fraction(121, 37), Fraction(121, 43), Fraction(121, 45), Fraction(121, 46), Fraction(121, 50), Fraction(121, 54), Fraction(121, 56), Fraction(121, 65), Fraction(121, 67), Fraction(121, 71), Fraction(121, 75), Fraction(121, 76), Fraction(121, 78), Fraction(121, 84), Fraction(121, 85), Fraction(121, 87), Fraction(121, 89), Fraction(121, 98), Fraction(121, 100), Fraction(121, 109), Fraction(121, 111)]\n"
     ]
    }
   ],
   "source": [
    "slice_property = []\n",
    "\n",
    "for m in range(1,12):\n",
    "    for q in range(1,m**2):\n",
    "        if (np.count_nonzero(list_invariants(Fraction(m**2, q))) == (m**2 - m)):\n",
    "            slice_property.append(Fraction(m**2,q))\n",
    "            \n",
    "# Removing duplicates\n",
    "slice_property = list(dict.fromkeys(slice_property))\n",
    "\n",
    "print(slice_property)"
   ]
  },
  {
   "cell_type": "code",
   "execution_count": null,
   "metadata": {},
   "outputs": [],
   "source": []
  }
 ],
 "metadata": {
  "kernelspec": {
   "display_name": "Python 3",
   "language": "python",
   "name": "python3"
  },
  "language_info": {
   "codemirror_mode": {
    "name": "ipython",
    "version": 3
   },
   "file_extension": ".py",
   "mimetype": "text/x-python",
   "name": "python",
   "nbconvert_exporter": "python",
   "pygments_lexer": "ipython3",
   "version": "3.7.3"
  }
 },
 "nbformat": 4,
 "nbformat_minor": 4
}
